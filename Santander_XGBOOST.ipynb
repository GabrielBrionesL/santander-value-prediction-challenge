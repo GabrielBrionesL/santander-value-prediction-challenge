{
 "cells": [
  {
   "cell_type": "code",
   "execution_count": 1,
   "metadata": {},
   "outputs": [
    {
     "name": "stdout",
     "output_type": "stream",
     "text": [
      "Requirement already satisfied: lightgbm==3.3.5 in c:\\users\\gabri\\anaconda3\\envs\\pda-ie\\lib\\site-packages (3.3.5)\n",
      "Requirement already satisfied: wheel in c:\\users\\gabri\\anaconda3\\envs\\pda-ie\\lib\\site-packages (from lightgbm==3.3.5) (0.42.0)\n",
      "Requirement already satisfied: numpy in c:\\users\\gabri\\anaconda3\\envs\\pda-ie\\lib\\site-packages (from lightgbm==3.3.5) (1.25.2)\n",
      "Requirement already satisfied: scipy in c:\\users\\gabri\\anaconda3\\envs\\pda-ie\\lib\\site-packages (from lightgbm==3.3.5) (1.11.4)\n",
      "Requirement already satisfied: scikit-learn!=0.22.0 in c:\\users\\gabri\\anaconda3\\envs\\pda-ie\\lib\\site-packages (from lightgbm==3.3.5) (1.3.0)\n",
      "Requirement already satisfied: joblib>=1.1.1 in c:\\users\\gabri\\anaconda3\\envs\\pda-ie\\lib\\site-packages (from scikit-learn!=0.22.0->lightgbm==3.3.5) (1.3.2)\n",
      "Requirement already satisfied: threadpoolctl>=2.0.0 in c:\\users\\gabri\\anaconda3\\envs\\pda-ie\\lib\\site-packages (from scikit-learn!=0.22.0->lightgbm==3.3.5) (3.2.0)\n",
      "Note: you may need to restart the kernel to use updated packages.\n"
     ]
    }
   ],
   "source": [
    "%pip install lightgbm==3.3.5"
   ]
  },
  {
   "cell_type": "code",
   "execution_count": 2,
   "metadata": {},
   "outputs": [],
   "source": [
    "import numpy as np\n",
    "import pandas as pd\n",
    "import matplotlib.pyplot as plt\n",
    "import seaborn as sns \n",
    "\n",
    "from sklearn.feature_extraction.text import TfidfVectorizer, CountVectorizer\n",
    "from sklearn.decomposition import TruncatedSVD\n",
    "from sklearn import preprocessing, model_selection, metrics\n",
    "from sklearn.model_selection import train_test_split\n",
    "\n",
    "import lightgbm as lgb\n",
    "import xgboost as xgb\n",
    "from catboost import CatBoostRegressor \n",
    "\n",
    "from IPython.display import display "
   ]
  },
  {
   "cell_type": "code",
   "execution_count": 3,
   "metadata": {},
   "outputs": [
    {
     "data": {
      "text/html": [
       "<div>\n",
       "<style scoped>\n",
       "    .dataframe tbody tr th:only-of-type {\n",
       "        vertical-align: middle;\n",
       "    }\n",
       "\n",
       "    .dataframe tbody tr th {\n",
       "        vertical-align: top;\n",
       "    }\n",
       "\n",
       "    .dataframe thead th {\n",
       "        text-align: right;\n",
       "    }\n",
       "</style>\n",
       "<table border=\"1\" class=\"dataframe\">\n",
       "  <thead>\n",
       "    <tr style=\"text-align: right;\">\n",
       "      <th></th>\n",
       "      <th>ID</th>\n",
       "      <th>target</th>\n",
       "      <th>48df886f9</th>\n",
       "      <th>0deb4b6a8</th>\n",
       "      <th>34b15f335</th>\n",
       "      <th>a8cb14b00</th>\n",
       "      <th>2f0771a37</th>\n",
       "      <th>30347e683</th>\n",
       "      <th>d08d1fbe3</th>\n",
       "      <th>6ee66e115</th>\n",
       "      <th>...</th>\n",
       "      <th>3ecc09859</th>\n",
       "      <th>9281abeea</th>\n",
       "      <th>8675bec0b</th>\n",
       "      <th>3a13ed79a</th>\n",
       "      <th>f677d4d13</th>\n",
       "      <th>71b203550</th>\n",
       "      <th>137efaa80</th>\n",
       "      <th>fb36b89d9</th>\n",
       "      <th>7e293fbaf</th>\n",
       "      <th>9fc776466</th>\n",
       "    </tr>\n",
       "  </thead>\n",
       "  <tbody>\n",
       "    <tr>\n",
       "      <th>0</th>\n",
       "      <td>000d6aaf2</td>\n",
       "      <td>38000000.0</td>\n",
       "      <td>0.0</td>\n",
       "      <td>0</td>\n",
       "      <td>0.0</td>\n",
       "      <td>0</td>\n",
       "      <td>0</td>\n",
       "      <td>0</td>\n",
       "      <td>0</td>\n",
       "      <td>0</td>\n",
       "      <td>...</td>\n",
       "      <td>0.0</td>\n",
       "      <td>0.0</td>\n",
       "      <td>0.0</td>\n",
       "      <td>0</td>\n",
       "      <td>0</td>\n",
       "      <td>0</td>\n",
       "      <td>0</td>\n",
       "      <td>0</td>\n",
       "      <td>0</td>\n",
       "      <td>0</td>\n",
       "    </tr>\n",
       "    <tr>\n",
       "      <th>1</th>\n",
       "      <td>000fbd867</td>\n",
       "      <td>600000.0</td>\n",
       "      <td>0.0</td>\n",
       "      <td>0</td>\n",
       "      <td>0.0</td>\n",
       "      <td>0</td>\n",
       "      <td>0</td>\n",
       "      <td>0</td>\n",
       "      <td>0</td>\n",
       "      <td>0</td>\n",
       "      <td>...</td>\n",
       "      <td>0.0</td>\n",
       "      <td>0.0</td>\n",
       "      <td>0.0</td>\n",
       "      <td>0</td>\n",
       "      <td>0</td>\n",
       "      <td>0</td>\n",
       "      <td>0</td>\n",
       "      <td>0</td>\n",
       "      <td>0</td>\n",
       "      <td>0</td>\n",
       "    </tr>\n",
       "    <tr>\n",
       "      <th>2</th>\n",
       "      <td>0027d6b71</td>\n",
       "      <td>10000000.0</td>\n",
       "      <td>0.0</td>\n",
       "      <td>0</td>\n",
       "      <td>0.0</td>\n",
       "      <td>0</td>\n",
       "      <td>0</td>\n",
       "      <td>0</td>\n",
       "      <td>0</td>\n",
       "      <td>0</td>\n",
       "      <td>...</td>\n",
       "      <td>0.0</td>\n",
       "      <td>0.0</td>\n",
       "      <td>0.0</td>\n",
       "      <td>0</td>\n",
       "      <td>0</td>\n",
       "      <td>0</td>\n",
       "      <td>0</td>\n",
       "      <td>0</td>\n",
       "      <td>0</td>\n",
       "      <td>0</td>\n",
       "    </tr>\n",
       "    <tr>\n",
       "      <th>3</th>\n",
       "      <td>0028cbf45</td>\n",
       "      <td>2000000.0</td>\n",
       "      <td>0.0</td>\n",
       "      <td>0</td>\n",
       "      <td>0.0</td>\n",
       "      <td>0</td>\n",
       "      <td>0</td>\n",
       "      <td>0</td>\n",
       "      <td>0</td>\n",
       "      <td>0</td>\n",
       "      <td>...</td>\n",
       "      <td>0.0</td>\n",
       "      <td>0.0</td>\n",
       "      <td>0.0</td>\n",
       "      <td>0</td>\n",
       "      <td>0</td>\n",
       "      <td>0</td>\n",
       "      <td>0</td>\n",
       "      <td>0</td>\n",
       "      <td>0</td>\n",
       "      <td>0</td>\n",
       "    </tr>\n",
       "    <tr>\n",
       "      <th>4</th>\n",
       "      <td>002a68644</td>\n",
       "      <td>14400000.0</td>\n",
       "      <td>0.0</td>\n",
       "      <td>0</td>\n",
       "      <td>0.0</td>\n",
       "      <td>0</td>\n",
       "      <td>0</td>\n",
       "      <td>0</td>\n",
       "      <td>0</td>\n",
       "      <td>0</td>\n",
       "      <td>...</td>\n",
       "      <td>0.0</td>\n",
       "      <td>0.0</td>\n",
       "      <td>0.0</td>\n",
       "      <td>0</td>\n",
       "      <td>0</td>\n",
       "      <td>0</td>\n",
       "      <td>0</td>\n",
       "      <td>0</td>\n",
       "      <td>0</td>\n",
       "      <td>0</td>\n",
       "    </tr>\n",
       "  </tbody>\n",
       "</table>\n",
       "<p>5 rows × 4993 columns</p>\n",
       "</div>"
      ],
      "text/plain": [
       "          ID      target  48df886f9  0deb4b6a8  34b15f335  a8cb14b00  \\\n",
       "0  000d6aaf2  38000000.0        0.0          0        0.0          0   \n",
       "1  000fbd867    600000.0        0.0          0        0.0          0   \n",
       "2  0027d6b71  10000000.0        0.0          0        0.0          0   \n",
       "3  0028cbf45   2000000.0        0.0          0        0.0          0   \n",
       "4  002a68644  14400000.0        0.0          0        0.0          0   \n",
       "\n",
       "   2f0771a37  30347e683  d08d1fbe3  6ee66e115  ...  3ecc09859  9281abeea  \\\n",
       "0          0          0          0          0  ...        0.0        0.0   \n",
       "1          0          0          0          0  ...        0.0        0.0   \n",
       "2          0          0          0          0  ...        0.0        0.0   \n",
       "3          0          0          0          0  ...        0.0        0.0   \n",
       "4          0          0          0          0  ...        0.0        0.0   \n",
       "\n",
       "   8675bec0b  3a13ed79a  f677d4d13  71b203550  137efaa80  fb36b89d9  \\\n",
       "0        0.0          0          0          0          0          0   \n",
       "1        0.0          0          0          0          0          0   \n",
       "2        0.0          0          0          0          0          0   \n",
       "3        0.0          0          0          0          0          0   \n",
       "4        0.0          0          0          0          0          0   \n",
       "\n",
       "   7e293fbaf  9fc776466  \n",
       "0          0          0  \n",
       "1          0          0  \n",
       "2          0          0  \n",
       "3          0          0  \n",
       "4          0          0  \n",
       "\n",
       "[5 rows x 4993 columns]"
      ]
     },
     "execution_count": 3,
     "metadata": {},
     "output_type": "execute_result"
    }
   ],
   "source": [
    "train_root_path = '../Kaggle - Santander Value Prediction Challenge/train/train.csv'\n",
    "test_root_path = '../Kaggle - Santander Value Prediction Challenge/test/test.csv'\n",
    "\n",
    "train_df = pd.read_csv(train_root_path)\n",
    "\n",
    "test_df = pd.read_csv(test_root_path)\n",
    "\n",
    "train_df.head()"
   ]
  },
  {
   "cell_type": "code",
   "execution_count": 4,
   "metadata": {},
   "outputs": [
    {
     "data": {
      "text/html": [
       "<div>\n",
       "<style scoped>\n",
       "    .dataframe tbody tr th:only-of-type {\n",
       "        vertical-align: middle;\n",
       "    }\n",
       "\n",
       "    .dataframe tbody tr th {\n",
       "        vertical-align: top;\n",
       "    }\n",
       "\n",
       "    .dataframe thead th {\n",
       "        text-align: right;\n",
       "    }\n",
       "</style>\n",
       "<table border=\"1\" class=\"dataframe\">\n",
       "  <thead>\n",
       "    <tr style=\"text-align: right;\">\n",
       "      <th></th>\n",
       "      <th>ID</th>\n",
       "      <th>48df886f9</th>\n",
       "      <th>0deb4b6a8</th>\n",
       "      <th>34b15f335</th>\n",
       "      <th>a8cb14b00</th>\n",
       "      <th>2f0771a37</th>\n",
       "      <th>30347e683</th>\n",
       "      <th>d08d1fbe3</th>\n",
       "      <th>6ee66e115</th>\n",
       "      <th>20aa07010</th>\n",
       "      <th>...</th>\n",
       "      <th>3ecc09859</th>\n",
       "      <th>9281abeea</th>\n",
       "      <th>8675bec0b</th>\n",
       "      <th>3a13ed79a</th>\n",
       "      <th>f677d4d13</th>\n",
       "      <th>71b203550</th>\n",
       "      <th>137efaa80</th>\n",
       "      <th>fb36b89d9</th>\n",
       "      <th>7e293fbaf</th>\n",
       "      <th>9fc776466</th>\n",
       "    </tr>\n",
       "  </thead>\n",
       "  <tbody>\n",
       "    <tr>\n",
       "      <th>0</th>\n",
       "      <td>000137c73</td>\n",
       "      <td>0.0</td>\n",
       "      <td>0.0</td>\n",
       "      <td>0.0</td>\n",
       "      <td>0.0</td>\n",
       "      <td>0.0</td>\n",
       "      <td>0.0</td>\n",
       "      <td>0.0</td>\n",
       "      <td>0.0</td>\n",
       "      <td>0.0</td>\n",
       "      <td>...</td>\n",
       "      <td>0.0</td>\n",
       "      <td>0.0</td>\n",
       "      <td>0.0</td>\n",
       "      <td>0.0</td>\n",
       "      <td>0.0</td>\n",
       "      <td>0.0</td>\n",
       "      <td>0.0</td>\n",
       "      <td>0.0</td>\n",
       "      <td>0.0</td>\n",
       "      <td>0.0</td>\n",
       "    </tr>\n",
       "    <tr>\n",
       "      <th>1</th>\n",
       "      <td>00021489f</td>\n",
       "      <td>0.0</td>\n",
       "      <td>0.0</td>\n",
       "      <td>0.0</td>\n",
       "      <td>0.0</td>\n",
       "      <td>0.0</td>\n",
       "      <td>0.0</td>\n",
       "      <td>0.0</td>\n",
       "      <td>0.0</td>\n",
       "      <td>0.0</td>\n",
       "      <td>...</td>\n",
       "      <td>0.0</td>\n",
       "      <td>0.0</td>\n",
       "      <td>0.0</td>\n",
       "      <td>0.0</td>\n",
       "      <td>0.0</td>\n",
       "      <td>0.0</td>\n",
       "      <td>0.0</td>\n",
       "      <td>0.0</td>\n",
       "      <td>0.0</td>\n",
       "      <td>0.0</td>\n",
       "    </tr>\n",
       "    <tr>\n",
       "      <th>2</th>\n",
       "      <td>0004d7953</td>\n",
       "      <td>0.0</td>\n",
       "      <td>0.0</td>\n",
       "      <td>0.0</td>\n",
       "      <td>0.0</td>\n",
       "      <td>0.0</td>\n",
       "      <td>0.0</td>\n",
       "      <td>0.0</td>\n",
       "      <td>0.0</td>\n",
       "      <td>0.0</td>\n",
       "      <td>...</td>\n",
       "      <td>0.0</td>\n",
       "      <td>0.0</td>\n",
       "      <td>0.0</td>\n",
       "      <td>0.0</td>\n",
       "      <td>0.0</td>\n",
       "      <td>0.0</td>\n",
       "      <td>0.0</td>\n",
       "      <td>0.0</td>\n",
       "      <td>0.0</td>\n",
       "      <td>0.0</td>\n",
       "    </tr>\n",
       "    <tr>\n",
       "      <th>3</th>\n",
       "      <td>00056a333</td>\n",
       "      <td>0.0</td>\n",
       "      <td>0.0</td>\n",
       "      <td>0.0</td>\n",
       "      <td>0.0</td>\n",
       "      <td>0.0</td>\n",
       "      <td>0.0</td>\n",
       "      <td>0.0</td>\n",
       "      <td>0.0</td>\n",
       "      <td>0.0</td>\n",
       "      <td>...</td>\n",
       "      <td>0.0</td>\n",
       "      <td>0.0</td>\n",
       "      <td>0.0</td>\n",
       "      <td>0.0</td>\n",
       "      <td>0.0</td>\n",
       "      <td>0.0</td>\n",
       "      <td>0.0</td>\n",
       "      <td>0.0</td>\n",
       "      <td>0.0</td>\n",
       "      <td>0.0</td>\n",
       "    </tr>\n",
       "    <tr>\n",
       "      <th>4</th>\n",
       "      <td>00056d8eb</td>\n",
       "      <td>0.0</td>\n",
       "      <td>0.0</td>\n",
       "      <td>0.0</td>\n",
       "      <td>0.0</td>\n",
       "      <td>0.0</td>\n",
       "      <td>0.0</td>\n",
       "      <td>0.0</td>\n",
       "      <td>0.0</td>\n",
       "      <td>0.0</td>\n",
       "      <td>...</td>\n",
       "      <td>0.0</td>\n",
       "      <td>0.0</td>\n",
       "      <td>0.0</td>\n",
       "      <td>0.0</td>\n",
       "      <td>0.0</td>\n",
       "      <td>0.0</td>\n",
       "      <td>0.0</td>\n",
       "      <td>0.0</td>\n",
       "      <td>0.0</td>\n",
       "      <td>0.0</td>\n",
       "    </tr>\n",
       "  </tbody>\n",
       "</table>\n",
       "<p>5 rows × 4992 columns</p>\n",
       "</div>"
      ],
      "text/plain": [
       "          ID  48df886f9  0deb4b6a8  34b15f335  a8cb14b00  2f0771a37  \\\n",
       "0  000137c73        0.0        0.0        0.0        0.0        0.0   \n",
       "1  00021489f        0.0        0.0        0.0        0.0        0.0   \n",
       "2  0004d7953        0.0        0.0        0.0        0.0        0.0   \n",
       "3  00056a333        0.0        0.0        0.0        0.0        0.0   \n",
       "4  00056d8eb        0.0        0.0        0.0        0.0        0.0   \n",
       "\n",
       "   30347e683  d08d1fbe3  6ee66e115  20aa07010  ...  3ecc09859  9281abeea  \\\n",
       "0        0.0        0.0        0.0        0.0  ...        0.0        0.0   \n",
       "1        0.0        0.0        0.0        0.0  ...        0.0        0.0   \n",
       "2        0.0        0.0        0.0        0.0  ...        0.0        0.0   \n",
       "3        0.0        0.0        0.0        0.0  ...        0.0        0.0   \n",
       "4        0.0        0.0        0.0        0.0  ...        0.0        0.0   \n",
       "\n",
       "   8675bec0b  3a13ed79a  f677d4d13  71b203550  137efaa80  fb36b89d9  \\\n",
       "0        0.0        0.0        0.0        0.0        0.0        0.0   \n",
       "1        0.0        0.0        0.0        0.0        0.0        0.0   \n",
       "2        0.0        0.0        0.0        0.0        0.0        0.0   \n",
       "3        0.0        0.0        0.0        0.0        0.0        0.0   \n",
       "4        0.0        0.0        0.0        0.0        0.0        0.0   \n",
       "\n",
       "   7e293fbaf  9fc776466  \n",
       "0        0.0        0.0  \n",
       "1        0.0        0.0  \n",
       "2        0.0        0.0  \n",
       "3        0.0        0.0  \n",
       "4        0.0        0.0  \n",
       "\n",
       "[5 rows x 4992 columns]"
      ]
     },
     "execution_count": 4,
     "metadata": {},
     "output_type": "execute_result"
    }
   ],
   "source": [
    "test_df.head()"
   ]
  },
  {
   "cell_type": "code",
   "execution_count": 5,
   "metadata": {},
   "outputs": [
    {
     "name": "stdout",
     "output_type": "stream",
     "text": [
      "Shape of train_df: (4459, 4993)\n",
      "Shape of test_df: (49342, 4992)\n"
     ]
    }
   ],
   "source": [
    "print(f\"Shape of train_df: {train_df.shape}\")\n",
    "print(f\"Shape of test_df: {test_df.shape}\")"
   ]
  },
  {
   "cell_type": "markdown",
   "metadata": {},
   "source": [
    "There are 4459 rows in the train data set and 49342 rows in the test data set. WE also have 4993 columns in total including the target and id column.\n",
    "- Test set is almost 10x the train set\n",
    "- In the train dataset, the number of columns is more than the number of rows. Our dataset is weider than it is tall. We will need to be careful with feature engineering.\n",
    "- We hgave an anonymized \"ID\" feature together with a numerical \"Target\" variable. The typical values of this target seem to be relatively high\n",
    "- The remaining 4991 features are completely anonymous and appear to be primarily in integer or double format"
   ]
  },
  {
   "cell_type": "code",
   "execution_count": 6,
   "metadata": {},
   "outputs": [
    {
     "name": "stdout",
     "output_type": "stream",
     "text": [
      "<class 'pandas.core.frame.DataFrame'>\n",
      "RangeIndex: 4459 entries, 0 to 4458\n",
      "Columns: 4993 entries, ID to 9fc776466\n",
      "dtypes: float64(1845), int64(3147), object(1)\n",
      "memory usage: 169.9+ MB\n"
     ]
    }
   ],
   "source": [
    "train_df.info()"
   ]
  },
  {
   "cell_type": "code",
   "execution_count": 7,
   "metadata": {},
   "outputs": [
    {
     "name": "stdout",
     "output_type": "stream",
     "text": [
      "<class 'pandas.core.frame.DataFrame'>\n",
      "RangeIndex: 49342 entries, 0 to 49341\n",
      "Columns: 4992 entries, ID to 9fc776466\n",
      "dtypes: float64(4991), object(1)\n",
      "memory usage: 1.8+ GB\n"
     ]
    }
   ],
   "source": [
    "test_df.info()"
   ]
  },
  {
   "cell_type": "markdown",
   "metadata": {},
   "source": [
    "# Exploratory Data Analysis"
   ]
  },
  {
   "cell_type": "code",
   "execution_count": 8,
   "metadata": {},
   "outputs": [
    {
     "data": {
      "image/png": "[encoded data removed]",
      "text/plain": [
       "<Figure size 800x600 with 1 Axes>"
      ]
     },
     "metadata": {},
     "output_type": "display_data"
    }
   ],
   "source": [
    "plt.figure(figsize=(8,6))\n",
    "\n",
    "plt.scatter(range(train_df.shape[0]), np.sort(train_df['target'].values))\n",
    "\n",
    "plt.xlabel('index', fontsize=12)\n",
    "plt.ylabel('Target', fontsize=12)\n",
    "plt.title('Distribution of Target', fontsize=14)\n",
    "plt.show()"
   ]
  },
  {
   "cell_type": "code",
   "execution_count": 9,
   "metadata": {},
   "outputs": [
    {
     "data": {
      "image/png": "[encoded data removed]",
      "text/plain": [
       "<Figure size 1200x800 with 1 Axes>"
      ]
     },
     "metadata": {},
     "output_type": "display_data"
    }
   ],
   "source": [
    "plt.figure(figsize=(12,8))\n",
    "\n",
    "sns.histplot(train_df['target'].values, bins=50, kde=False)\n",
    "\n",
    "plt.xlabel('Target', fontsize=14)\n",
    "plt.title('Histogram of Target', fontsize=16)\n",
    "plt.show()"
   ]
  },
  {
   "cell_type": "code",
   "execution_count": 10,
   "metadata": {},
   "outputs": [
    {
     "data": {
      "text/plain": [
       "<Figure size 1200x800 with 0 Axes>"
      ]
     },
     "metadata": {},
     "output_type": "display_data"
    },
    {
     "data": {
      "image/png": "[encoded data removed]",
      "text/plain": [
       "<Figure size 500x500 with 1 Axes>"
      ]
     },
     "metadata": {},
     "output_type": "display_data"
    }
   ],
   "source": [
    "plt.figure(figsize=(12,8))\n",
    "\n",
    "sns.displot(np.log1p(train_df['target'].values), bins=50, kde=False)  # Take the natural log of the absolute values of target and then plot histogram\n",
    "\n",
    "plt.xlabel('Target', fontsize=12)\n",
    "plt.title('Log of Target Histogram', fontsize=14)\n",
    "plt.show()"
   ]
  },
  {
   "cell_type": "code",
   "execution_count": 11,
   "metadata": {},
   "outputs": [
    {
     "name": "stdout",
     "output_type": "stream",
     "text": [
      "All features in train data with NaN values = 0\n"
     ]
    }
   ],
   "source": [
    "check_NaN = str(train_df.columns[train_df.isnull().sum() != 0].size)  # To count the NaN values under the entire DataFrame \n",
    "\n",
    "print(f\"All features in train data with NaN values = {check_NaN}\")"
   ]
  },
  {
   "cell_type": "markdown",
   "metadata": {},
   "source": [
    "If a feature has low variance, then it has a very low contribution to prediction. However, in boosting models these issues are accounted for. So let's remove variables which are constant, with a variance of zero"
   ]
  },
  {
   "cell_type": "code",
   "execution_count": 12,
   "metadata": {},
   "outputs": [
    {
     "name": "stdout",
     "output_type": "stream",
     "text": [
      "The following number of constant columns have been removed: 256\n",
      "train_df rows and columns after removing constant columns: (4459, 4737)\n"
     ]
    }
   ],
   "source": [
    "const_columns_to_remove = []\n",
    "\n",
    "for col in train_df.columns:\n",
    "    if col != 'ID' and col != 'target':\n",
    "        if train_df[col].std() == 0:  # Only checking for standard deviation as exactly 0\n",
    "            const_columns_to_remove.append(col)\n",
    "\n",
    "# Now remove the array of const columns from the data\n",
    "train_df.drop(const_columns_to_remove, axis=1, inplace=True)\n",
    "\n",
    "test_df.drop(const_columns_to_remove, axis=1, inplace=True)\n",
    "\n",
    "no_of_col = len(const_columns_to_remove)\n",
    "print(f\"The following number of constant columns have been removed: {no_of_col}\")\n",
    "\n",
    "# Print to see the reduction of columns\n",
    "print(f\"train_df rows and columns after removing constant columns: {train_df.shape}\")"
   ]
  },
  {
   "cell_type": "markdown",
   "metadata": {},
   "source": [
    "# Remove duplicate columns "
   ]
  },
  {
   "cell_type": "code",
   "execution_count": 13,
   "metadata": {},
   "outputs": [
    {
     "name": "stdout",
     "output_type": "stream",
     "text": [
      "Train data set rows and columns after removing duplicate columns: (4459, 4737)\n"
     ]
    }
   ],
   "source": [
    "train_df = train_df.loc[:, ~train_df.columns.duplicated()]\n",
    "\n",
    "print(f\"Train data set rows and columns after removing duplicate columns: {train_df.shape}\")"
   ]
  },
  {
   "cell_type": "code",
   "execution_count": 14,
   "metadata": {},
   "outputs": [],
   "source": [
    "def drop_sparse_from_train_test(train, test):\n",
    "    column_list_to_drop_data_from = [x for x in train.columns if not x in ['ID', 'target']]  # Excluding ID and target\n",
    "\n",
    "    for f in column_list_to_drop_data_from:\n",
    "        if len(np.unique(train[f])) < 2:  # Removing those columns where the unique values of these columns are less than 2, indication that it's sparse data\n",
    "            train.drop(f, axis=1, inplace=True)\n",
    "            test.drop(f, axis=1, inplace=True)\n",
    "    return train, test\n",
    "\n",
    "train_df, test_df = drop_sparse_from_train_test(train_df, test_df)"
   ]
  },
  {
   "cell_type": "markdown",
   "metadata": {},
   "source": [
    "# Split data into Train and Test for Model Training"
   ]
  },
  {
   "cell_type": "code",
   "execution_count": 15,
   "metadata": {},
   "outputs": [],
   "source": [
    "x_train = train_df.drop(['ID', 'target'], axis=1)\n",
    "\n",
    "y_train = np.log1p(train_df['target'].values)\n",
    "\n",
    "x_test_original = test_df.drop('ID', axis=1)\n",
    "\n",
    "x_train_split, x_validation, y_train_split, y_validation = train_test_split(x_train, y_train, test_size=0.2, random_state=42)"
   ]
  },
  {
   "cell_type": "code",
   "execution_count": 16,
   "metadata": {},
   "outputs": [
    {
     "name": "stdout",
     "output_type": "stream",
     "text": [
      "x_train_split.shape: (3567, 4735)\n",
      "x_validation.shape: (892, 4735)\n",
      "y_train_split.shape: (3567,)\n",
      "y_validation.shape: (892,)\n"
     ]
    }
   ],
   "source": [
    "print(f\"x_train_split.shape: {x_train_split.shape}\")\n",
    "print(f\"x_validation.shape: {x_validation.shape}\")\n",
    "print(f\"y_train_split.shape: {y_train_split.shape}\")\n",
    "print(f\"y_validation.shape: {y_validation.shape}\")"
   ]
  },
  {
   "cell_type": "markdown",
   "metadata": {},
   "source": [
    "# Deploy Models"
   ]
  },
  {
   "cell_type": "markdown",
   "metadata": {},
   "source": [
    "## LightGBM Model:\n",
    "- It is a gradient boosting model that makes use of tree based learning algorithms and is considered to be a fast processing algorithm\n",
    "- While other Gradient Boosting algorithms trees grow horizontally, in LightGBM the trees grow vertically, meaning it grows leaf-wise while the other algorithms grow level-wise\n",
    "- LightGBM  chooses the leaf with large loss to grow and it can lower down more loss than a level wise algorithm when growing in the same leaf"
   ]
  },
  {
   "cell_type": "code",
   "execution_count": 17,
   "metadata": {},
   "outputs": [],
   "source": [
    "def light_gbm_model_run(train_x, train_y, validation_x, validation_y, test_x):\n",
    "    \"\"\"\n",
    "    Run the LightGBM model for regression.\n",
    "\n",
    "    Args:\n",
    "        train_x (numpy.ndarray): Training input features.\n",
    "        train_y (numpy.ndarray): Training target values.\n",
    "        validation_x (numpy.ndarray): Validation input features.\n",
    "        validation_y (numpy.ndarray): Validation target values.\n",
    "        test_x (numpy.ndarray): Test input features.\n",
    "\n",
    "    Returns:\n",
    "        numpy.ndarray: Predicted target values for the test set.\n",
    "        lightgbm.Booster: Trained LightGBM model.\n",
    "        dict: Evaluation results of the LightGBM model.\n",
    "\n",
    "    \"\"\"\n",
    "    params = {\n",
    "        \"objective\" : \"regression\",\n",
    "        \"metric\" : \"rmse\",\n",
    "        \"num_leaves\" : 100,\n",
    "        \"learning_rate\" : 0.001,\n",
    "        \"bagging_fraction\" : 0.6,\n",
    "        \"feature_fraction\" : 0.6,\n",
    "        \"bagging_frequency\" : 6,\n",
    "        \"bagging_seed\" : 42,\n",
    "        \"verbosity\" : -1,\n",
    "        \"seed\": 42\n",
    "    }\n",
    "    \n",
    "    # Given its a regression case, I am using the RMSE as the metric.\n",
    "\n",
    "    lgbm_train = lgb.Dataset(train_x, label=train_y)\n",
    "    \n",
    "    lg_validation = lgb.Dataset(validation_x, label=validation_y)\n",
    "    \n",
    "    evals_result_lgbm = {}\n",
    "\n",
    "    model_light_gbm = lgb.train(params, lgbm_train, 5000,\n",
    "                      valid_sets=[lgbm_train, lg_validation],\n",
    "                      early_stopping_rounds=100,\n",
    "                      verbose_eval=150,\n",
    "                      evals_result=evals_result_lgbm )\n",
    "    \n",
    "    pred_test_light_gbm = np.expm1(model_light_gbm.predict(test_x, num_iteration=model_light_gbm.best_iteration ))\n",
    "\n",
    "    return pred_test_light_gbm, model_light_gbm, evals_result_lgbm"
   ]
  },
  {
   "cell_type": "code",
   "execution_count": 18,
   "metadata": {},
   "outputs": [
    {
     "name": "stderr",
     "output_type": "stream",
     "text": [
      "c:\\Users\\gabri\\anaconda3\\envs\\pda-ie\\Lib\\site-packages\\lightgbm\\engine.py:181: UserWarning: 'early_stopping_rounds' argument is deprecated and will be removed in a future release of LightGBM. Pass 'early_stopping()' callback via 'callbacks' argument instead.\n",
      "  _log_warning(\"'early_stopping_rounds' argument is deprecated and will be removed in a future release of LightGBM. \"\n",
      "c:\\Users\\gabri\\anaconda3\\envs\\pda-ie\\Lib\\site-packages\\lightgbm\\engine.py:239: UserWarning: 'verbose_eval' argument is deprecated and will be removed in a future release of LightGBM. Pass 'log_evaluation()' callback via 'callbacks' argument instead.\n",
      "  _log_warning(\"'verbose_eval' argument is deprecated and will be removed in a future release of LightGBM. \"\n",
      "c:\\Users\\gabri\\anaconda3\\envs\\pda-ie\\Lib\\site-packages\\lightgbm\\engine.py:260: UserWarning: 'evals_result' argument is deprecated and will be removed in a future release of LightGBM. Pass 'record_evaluation()' callback via 'callbacks' argument instead.\n",
      "  _log_warning(\"'evals_result' argument is deprecated and will be removed in a future release of LightGBM. \"\n"
     ]
    },
    {
     "name": "stdout",
     "output_type": "stream",
     "text": [
      "[LightGBM] [Warning] Unknown parameter: bagging_frequency\n",
      "Training until validation scores don't improve for 100 rounds\n",
      "[150]\ttraining's rmse: 1.66447\tvalid_1's rmse: 1.63998\n",
      "[300]\ttraining's rmse: 1.57647\tvalid_1's rmse: 1.59273\n",
      "[450]\ttraining's rmse: 1.49838\tvalid_1's rmse: 1.55444\n",
      "[600]\ttraining's rmse: 1.42899\tvalid_1's rmse: 1.5229\n",
      "[750]\ttraining's rmse: 1.36605\tvalid_1's rmse: 1.49779\n",
      "[900]\ttraining's rmse: 1.30903\tvalid_1's rmse: 1.47722\n",
      "[1050]\ttraining's rmse: 1.25715\tvalid_1's rmse: 1.46109\n",
      "[1200]\ttraining's rmse: 1.20994\tvalid_1's rmse: 1.44797\n",
      "[1350]\ttraining's rmse: 1.16675\tvalid_1's rmse: 1.43745\n",
      "[1500]\ttraining's rmse: 1.12708\tvalid_1's rmse: 1.42923\n",
      "[1650]\ttraining's rmse: 1.09046\tvalid_1's rmse: 1.42251\n",
      "[1800]\ttraining's rmse: 1.05679\tvalid_1's rmse: 1.41778\n",
      "[1950]\ttraining's rmse: 1.02548\tvalid_1's rmse: 1.41419\n",
      "[2100]\ttraining's rmse: 0.995928\tvalid_1's rmse: 1.4113\n",
      "[2250]\ttraining's rmse: 0.96824\tvalid_1's rmse: 1.40915\n",
      "[2400]\ttraining's rmse: 0.941909\tvalid_1's rmse: 1.40749\n",
      "[2550]\ttraining's rmse: 0.917232\tvalid_1's rmse: 1.40622\n",
      "[2700]\ttraining's rmse: 0.893893\tvalid_1's rmse: 1.40514\n",
      "[2850]\ttraining's rmse: 0.87174\tvalid_1's rmse: 1.40444\n",
      "[3000]\ttraining's rmse: 0.850888\tvalid_1's rmse: 1.40394\n",
      "[3150]\ttraining's rmse: 0.831132\tvalid_1's rmse: 1.40382\n",
      "[3300]\ttraining's rmse: 0.812395\tvalid_1's rmse: 1.40365\n",
      "[3450]\ttraining's rmse: 0.794587\tvalid_1's rmse: 1.40377\n",
      "Early stopping, best iteration is:\n",
      "[3351]\ttraining's rmse: 0.806206\tvalid_1's rmse: 1.4036\n"
     ]
    }
   ],
   "source": [
    "# Training and output of LightGBM Model\n",
    "predicted_y_test_org_light_gbm, model_lgbm, evals_result_lgbm = light_gbm_model_run(x_train_split, y_train_split, x_validation, y_validation, x_test_original)"
   ]
  },
  {
   "cell_type": "markdown",
   "metadata": {},
   "source": [
    "## XGBoost Model Training\n"
   ]
  },
  {
   "cell_type": "markdown",
   "metadata": {},
   "source": [
    "XGBoost uses pre-sorted algorithim and histogram-based algorithm for computing the best split.\n",
    "\n",
    "XGBoost adds built-in regularization to achieve accuracy gains beyond gradient boosting. The regularized parameters penalize complexity and smooth out the final weights to prevent overfitting. XGBoost is a regularized version of gradient boosting."
   ]
  },
  {
   "cell_type": "code",
   "execution_count": 19,
   "metadata": {},
   "outputs": [],
   "source": [
    "def xgb_model_run(train_x, train_y, validation_x, validation_y, test_x):\n",
    "    \"\"\"\n",
    "    Run the XGBoost model for regression.\n",
    "\n",
    "    Args:\n",
    "        train_x (numpy.ndarray): Training input features.\n",
    "        train_y (numpy.ndarray): Training target values.\n",
    "        validation_x (numpy.ndarray): Validation input features.\n",
    "        validation_y (numpy.ndarray): Validation target values.\n",
    "        test_x (numpy.ndarray): Test input features.\n",
    "\n",
    "    Returns:\n",
    "        numpy.ndarray: Predicted target values for the test set.\n",
    "        xgboost.Booster: Trained XGBoost model.\n",
    "\n",
    "    \"\"\"\n",
    "    params = {\n",
    "        'objective' : 'reg:squarederror',\n",
    "        'eval_metric' : 'rmse',\n",
    "        'eta' : 0.001,\n",
    "        'max_depth' : 10,\n",
    "        'subsample' : 0.6,\n",
    "        'colsample_bytree' : 0.6,\n",
    "        'alpha' : 0.001,\n",
    "        'random_state' : 42\n",
    "    }\n",
    "\n",
    "    training_data = xgb.DMatrix(train_x, train_y)  # Using DMatrix since its more optimized in memory and training speed\n",
    "    validation_data = xgb.DMatrix(validation_x, validation_y)\n",
    "\n",
    "    watchlist = [(training_data, 'train'), (validation_data, 'valid')]  # Allows us to monitor the evaluation result on all data in the list\n",
    "\n",
    "    model_xgb = xgb.train(params, training_data, 50, watchlist, maximize=False, early_stopping_rounds=100, verbose_eval=100)\n",
    "\n",
    "    data_test = xgb.DMatrix(test_x)\n",
    "    predict_test_xgb = np.expm1(model_xgb.predict(data_test, ntree_limit=model_xgb.best_ntree_limit))\n",
    "\n",
    "    return predict_test_xgb, model_xgb"
   ]
  },
  {
   "cell_type": "code",
   "execution_count": 20,
   "metadata": {},
   "outputs": [
    {
     "name": "stdout",
     "output_type": "stream",
     "text": [
      "[0]\ttrain-rmse:14.08766\tvalid-rmse:14.07680\n"
     ]
    },
    {
     "name": "stderr",
     "output_type": "stream",
     "text": [
      "c:\\Users\\gabri\\anaconda3\\envs\\pda-ie\\Lib\\site-packages\\xgboost\\core.py:617: FutureWarning: Pass `evals` as keyword args.\n",
      "  warnings.warn(msg, FutureWarning)\n"
     ]
    },
    {
     "name": "stdout",
     "output_type": "stream",
     "text": [
      "[49]\ttrain-rmse:13.42473\tvalid-rmse:13.41323\n"
     ]
    },
    {
     "name": "stderr",
     "output_type": "stream",
     "text": [
      "c:\\Users\\gabri\\anaconda3\\envs\\pda-ie\\Lib\\site-packages\\xgboost\\core.py:122: UserWarning: ntree_limit is deprecated, use `iteration_range` or model slicing instead.\n",
      "  warnings.warn(\n"
     ]
    }
   ],
   "source": [
    "# Training XGB\n",
    "\n",
    "predicted_y_test_org_xgbm, model_xgb = xgb_model_run(x_train_split, y_train_split, x_validation, y_validation, x_test_original)"
   ]
  },
  {
   "cell_type": "markdown",
   "metadata": {},
   "source": [
    "## CatBoost Model Training"
   ]
  },
  {
   "cell_type": "markdown",
   "metadata": {},
   "source": [
    "CatBoost can be used to solve both classification and regression challenges. CatBoost is better at handling over-fitting. CatBoost grows a balanced tree."
   ]
  },
  {
   "cell_type": "code",
   "execution_count": 21,
   "metadata": {},
   "outputs": [
    {
     "name": "stderr",
     "output_type": "stream",
     "text": [
      "Warning: Overfitting detector is active, thus evaluation metric is calculated on every iteration. 'metric_period' is ignored for evaluation metric.\n"
     ]
    },
    {
     "name": "stdout",
     "output_type": "stream",
     "text": [
      "0:\tlearn: 1.7614936\ttest: 1.6943084\tbest: 1.6943084 (0)\ttotal: 1.33s\tremaining: 11m 6s\n",
      "50:\tlearn: 1.6747126\ttest: 1.6330977\tbest: 1.6330977 (50)\ttotal: 55.8s\tremaining: 8m 11s\n",
      "100:\tlearn: 1.6096948\ttest: 1.5902474\tbest: 1.5902474 (100)\ttotal: 1m 46s\tremaining: 7m 1s\n",
      "150:\tlearn: 1.5572985\ttest: 1.5589053\tbest: 1.5589053 (150)\ttotal: 2m 40s\tremaining: 6m 11s\n",
      "200:\tlearn: 1.5167332\ttest: 1.5382647\tbest: 1.5382647 (200)\ttotal: 3m 35s\tremaining: 5m 21s\n",
      "250:\tlearn: 1.4827385\ttest: 1.5217760\tbest: 1.5217760 (250)\ttotal: 4m 31s\tremaining: 4m 28s\n",
      "300:\tlearn: 1.4545436\ttest: 1.5093004\tbest: 1.5093004 (300)\ttotal: 5m 27s\tremaining: 3m 36s\n",
      "350:\tlearn: 1.4296056\ttest: 1.4994080\tbest: 1.4994080 (350)\ttotal: 6m 23s\tremaining: 2m 42s\n",
      "400:\tlearn: 1.4078157\ttest: 1.4916401\tbest: 1.4916401 (400)\ttotal: 7m 19s\tremaining: 1m 48s\n",
      "450:\tlearn: 1.3911783\ttest: 1.4861881\tbest: 1.4861881 (450)\ttotal: 8m 16s\tremaining: 53.9s\n",
      "499:\tlearn: 1.3751665\ttest: 1.4807567\tbest: 1.4807567 (499)\ttotal: 9m 10s\tremaining: 0us\n",
      "\n",
      "bestTest = 1.48075668\n",
      "bestIteration = 499\n",
      "\n"
     ]
    }
   ],
   "source": [
    "model_catboost = CatBoostRegressor(iterations = 500,\n",
    "                                   learning_rate=0.01,\n",
    "                                   depth=10,\n",
    "                                   eval_metric='RMSE',\n",
    "                                   random_seed=42,\n",
    "                                   bagging_temperature=0.2,\n",
    "                                   od_type='Iter',\n",
    "                                   metric_period=50,\n",
    "                                   od_wait=20\n",
    ")\n",
    "\n",
    "model_catboost.fit(x_train_split, y_train_split,\n",
    "                   eval_set=(x_validation, y_validation),\n",
    "                   use_best_model=True,\n",
    "                   verbose=50\n",
    "                   )\n",
    "\n",
    "predicted_y_test_org_catboost = np.expm1(model_catboost.predict(x_test_original))"
   ]
  },
  {
   "cell_type": "markdown",
   "metadata": {},
   "source": [
    "### Creating Output file for submission"
   ]
  },
  {
   "cell_type": "code",
   "execution_count": 24,
   "metadata": {},
   "outputs": [],
   "source": [
    "submission_final = pd.read_csv('../Kaggle - Santander Value Prediction Challenge/sample_submission/sample_submission.csv')"
   ]
  },
  {
   "cell_type": "code",
   "execution_count": 27,
   "metadata": {},
   "outputs": [],
   "source": [
    "submission_lgb = pd.DataFrame()\n",
    "submission_lgb['target'] = predicted_y_test_org_light_gbm\n",
    "\n",
    "submission_xgb = pd.DataFrame()\n",
    "submission_xgb['target'] = predicted_y_test_org_xgbm\n",
    "\n",
    "submission_catboost = pd.DataFrame()\n",
    "submission_catboost['target'] = predicted_y_test_org_catboost\n",
    "\n",
    "submission_final['target'] = (submission_lgb['target'] * 0.5 + submission_xgb['target'] * 0.3 + submission_catboost['target'] * 0.2)"
   ]
  },
  {
   "cell_type": "code",
   "execution_count": 28,
   "metadata": {},
   "outputs": [
    {
     "data": {
      "text/html": [
       "<div>\n",
       "<style scoped>\n",
       "    .dataframe tbody tr th:only-of-type {\n",
       "        vertical-align: middle;\n",
       "    }\n",
       "\n",
       "    .dataframe tbody tr th {\n",
       "        vertical-align: top;\n",
       "    }\n",
       "\n",
       "    .dataframe thead th {\n",
       "        text-align: right;\n",
       "    }\n",
       "</style>\n",
       "<table border=\"1\" class=\"dataframe\">\n",
       "  <thead>\n",
       "    <tr style=\"text-align: right;\">\n",
       "      <th></th>\n",
       "      <th>ID</th>\n",
       "      <th>target</th>\n",
       "    </tr>\n",
       "  </thead>\n",
       "  <tbody>\n",
       "    <tr>\n",
       "      <th>0</th>\n",
       "      <td>000137c73</td>\n",
       "      <td>1.028001e+06</td>\n",
       "    </tr>\n",
       "    <tr>\n",
       "      <th>1</th>\n",
       "      <td>00021489f</td>\n",
       "      <td>1.218372e+06</td>\n",
       "    </tr>\n",
       "    <tr>\n",
       "      <th>2</th>\n",
       "      <td>0004d7953</td>\n",
       "      <td>1.599856e+06</td>\n",
       "    </tr>\n",
       "    <tr>\n",
       "      <th>3</th>\n",
       "      <td>00056a333</td>\n",
       "      <td>3.082969e+06</td>\n",
       "    </tr>\n",
       "    <tr>\n",
       "      <th>4</th>\n",
       "      <td>00056d8eb</td>\n",
       "      <td>1.401132e+06</td>\n",
       "    </tr>\n",
       "  </tbody>\n",
       "</table>\n",
       "</div>"
      ],
      "text/plain": [
       "          ID        target\n",
       "0  000137c73  1.028001e+06\n",
       "1  00021489f  1.218372e+06\n",
       "2  0004d7953  1.599856e+06\n",
       "3  00056a333  3.082969e+06\n",
       "4  00056d8eb  1.401132e+06"
      ]
     },
     "execution_count": 28,
     "metadata": {},
     "output_type": "execute_result"
    }
   ],
   "source": [
    "submission_final.head()"
   ]
  },
  {
   "cell_type": "code",
   "execution_count": null,
   "metadata": {},
   "outputs": [],
   "source": [
    "submission_final.to_csv('submission_combined_lgb_xgb_catboost.csv', index=False)"
   ]
  }
 ],
 "metadata": {
  "kernelspec": {
   "display_name": "Python 3",
   "language": "python",
   "name": "python3"
  },
  "language_info": {
   "codemirror_mode": {
    "name": "ipython",
    "version": 3
   },
   "file_extension": ".py",
   "mimetype": "text/x-python",
   "name": "python",
   "nbconvert_exporter": "python",
   "pygments_lexer": "ipython3",
   "version": "3.11.7"
  }
 },
 "nbformat": 4,
 "nbformat_minor": 2
}
